{
  "nbformat": 4,
  "nbformat_minor": 0,
  "metadata": {
    "colab": {
      "name": "Mauricio Flores-AG1.ipynb",
      "provenance": [],
      "collapsed_sections": [],
      "include_colab_link": true
    },
    "kernelspec": {
      "name": "python3",
      "display_name": "Python 3"
    }
  },
  "cells": [
    {
      "cell_type": "markdown",
      "metadata": {
        "id": "view-in-github",
        "colab_type": "text"
      },
      "source": [
        "<a href=\"https://colab.research.google.com/github/muflores10/03MAIR---Algoritmos-de-Optimizacion---2019/blob/master/AG1/Mauricio%20Flores_AG1.ipynb\" target=\"_parent\"><img src=\"https://colab.research.google.com/assets/colab-badge.svg\" alt=\"Open In Colab\"/></a>"
      ]
    },
    {
      "cell_type": "code",
      "metadata": {
        "id": "NV4jzo8M7YQo",
        "colab_type": "code",
        "colab": {}
      },
      "source": [
        "#Mauricio Flores\n",
        "#URL: https://colab.research.google.com/drive/1iGoxUZaVn8FgKWJnR4yfn215IzisbaDY\n",
        "#URL: https://github.com/muflores10/03MAIR---Algoritmos-de-Optimizacion---2019/blob/master/AG1/AG1.ipynb\n",
        "\n",
        "\n",
        "from functools import wraps\n",
        "from time import time\n",
        "\n",
        "def calcular_tiempo(f):\n",
        "  @wraps(f)\n",
        "  def cronometro(*args, **kwargs):\n",
        "    t_inicial = time()\n",
        "    salida = f(*args, **kwargs)\n",
        "    t_final = time()\n",
        "    print('Tiempo transcurrido (en segundos): {}'.format(t_final - t_inicial))\n",
        "    return salida\n",
        "  return cronometro"
      ],
      "execution_count": 0,
      "outputs": []
    },
    {
      "cell_type": "code",
      "metadata": {
        "id": "5zprSIkU7anG",
        "colab_type": "code",
        "colab": {}
      },
      "source": [
        "#Torres de Hanoy\n",
        "\n",
        "def torres_hanoy(N, desde, hasta):\n",
        "  if N ==1:\n",
        "    print(\"LLevar desde \" + str(desde) + \" hasta \" + str(hasta))\n",
        "    print(\"pirmer funcion\")\n",
        "  else:\n",
        "    torres_hanoy(N-1, desde, 6-desde-hasta)\n",
        "    print(\"llevar desde \"+ str(desde) + \" hasta \"+ str(hasta))\n",
        "    print(\"segunda funcion\")\n",
        "    torres_hanoy(N-1, 6-desde-hasta, hasta)\n",
        "    print(\"tercera funcion\")\n",
        "\n",
        "torres_hanoy(4,1,3)"
      ],
      "execution_count": 0,
      "outputs": []
    },
    {
      "cell_type": "code",
      "metadata": {
        "id": "XHjZ0X2p-FuS",
        "colab_type": "code",
        "colab": {}
      },
      "source": [
        "def torres_hanoy1(n, desde=1, hasta=3):\n",
        "  if n:\n",
        "   torres_hanoy1(n-1, desde, 6-desde-hasta)\n",
        "   print(\"Mueve el disco {} desde {} hasta {}\".format(n, desde, hasta))\n",
        "   torres_hanoy1(n-1, 6-desde-hasta,hasta)\n",
        "\n",
        "torres_hanoy1(4)"
      ],
      "execution_count": 0,
      "outputs": []
    },
    {
      "cell_type": "code",
      "metadata": {
        "id": "7vlDEDQAALOp",
        "colab_type": "code",
        "colab": {}
      },
      "source": [
        "\n",
        "\n"
      ],
      "execution_count": 0,
      "outputs": []
    },
    {
      "cell_type": "code",
      "metadata": {
        "id": "NHK2IC-tBRYM",
        "colab_type": "code",
        "colab": {}
      },
      "source": [
        "# Algoritmo divide y venceras - quick sort\n",
        "\n",
        "import random\n",
        "\n",
        "A = [9187, 244, 4054, 9222, 8373, 4993, 5265, 5470, 4519, 7182, 2035, 3506, 4337, 7580, 2554, 2824, 8357, 4447, 7379]\n",
        "\n",
        "A=list(map(lambda x: random.randrange(1,10000), range(1,300)))"
      ],
      "execution_count": 0,
      "outputs": []
    },
    {
      "cell_type": "code",
      "metadata": {
        "id": "EePY74ypBU7r",
        "colab_type": "code",
        "colab": {
          "base_uri": "https://localhost:8080/",
          "height": 72
        },
        "outputId": "41c8b14a-4660-473c-f8aa-678978601158"
      },
      "source": [
        "\n",
        "def quick_sort(A):\n",
        "  if len(A)==1:\n",
        "    return A\n",
        "  if len(A)==2:\n",
        "    return [min(A),max(A)]\n",
        "  \n",
        "  pivote = (A[0] + A[1] + A[2])/3\n",
        "\n",
        "  IZQ = []\n",
        "  DER = []\n",
        "  for n in A:\n",
        "    if n < pivote:\n",
        "      IZQ.append(n)\n",
        "    else:\n",
        "      DER.append(n)\n",
        "  \n",
        "  return quick_sort(IZQ) + quick_sort(DER)\n",
        "\n",
        "@calcular_tiempo\n",
        "def ordenar(A):\n",
        "  print(quick_sort(A))\n",
        "\n",
        "ordenar(A)\n"
      ],
      "execution_count": 56,
      "outputs": [
        {
          "output_type": "stream",
          "text": [
            "[15, 25, 101, 160, 163, 168, 187, 246, 274, 339, 344, 360, 366, 367, 388, 444, 545, 550, 585, 590, 623, 641, 716, 726, 726, 777, 808, 837, 875, 892, 907, 931, 1055, 1067, 1078, 1088, 1110, 1127, 1135, 1146, 1220, 1242, 1253, 1368, 1441, 1445, 1471, 1533, 1587, 1661, 1671, 1702, 1782, 1783, 1785, 1831, 1864, 1880, 2035, 2063, 2082, 2109, 2110, 2112, 2124, 2186, 2189, 2333, 2423, 2537, 2550, 2570, 2599, 2642, 2646, 2695, 2700, 2728, 2762, 2763, 2829, 2871, 2884, 2887, 2893, 2974, 3023, 3112, 3130, 3145, 3167, 3197, 3254, 3375, 3445, 3490, 3504, 3578, 3604, 3681, 3689, 3748, 3758, 3794, 3812, 3866, 3886, 3921, 3946, 3952, 3976, 4020, 4098, 4132, 4144, 4144, 4177, 4178, 4207, 4210, 4244, 4323, 4345, 4345, 4436, 4440, 4455, 4476, 4492, 4563, 4577, 4602, 4729, 4750, 4757, 4790, 4833, 4852, 4869, 4919, 4923, 4956, 4977, 4977, 4996, 5006, 5038, 5078, 5115, 5127, 5141, 5209, 5210, 5221, 5225, 5230, 5298, 5327, 5329, 5361, 5400, 5416, 5464, 5519, 5529, 5592, 5600, 5629, 5685, 5690, 5692, 5717, 5739, 5816, 5861, 5883, 5905, 5911, 5919, 5936, 5941, 5977, 5983, 6001, 6005, 6145, 6153, 6271, 6279, 6292, 6343, 6410, 6429, 6511, 6601, 6627, 6792, 6851, 6865, 6889, 6894, 6918, 6929, 6947, 6959, 6979, 7005, 7053, 7077, 7094, 7147, 7167, 7211, 7231, 7257, 7314, 7338, 7339, 7390, 7572, 7573, 7583, 7586, 7588, 7672, 7676, 7704, 7707, 7722, 7725, 7737, 7740, 7766, 7782, 7800, 7812, 7845, 7888, 7905, 7929, 7953, 7965, 7980, 7982, 8162, 8267, 8301, 8453, 8459, 8482, 8489, 8548, 8604, 8674, 8687, 8694, 8705, 8708, 8714, 8735, 8768, 8801, 8806, 8836, 8856, 8859, 8882, 8932, 8946, 8962, 9027, 9093, 9116, 9155, 9269, 9289, 9308, 9427, 9461, 9472, 9508, 9518, 9572, 9606, 9672, 9686, 9700, 9706, 9721, 9727, 9871, 9871, 9872, 9877, 9879, 9897, 9913, 9918, 9957]\n",
            "Tiempo transcurrido (en segundos): 0.0018727779388427734\n"
          ],
          "name": "stdout"
        }
      ]
    },
    {
      "cell_type": "code",
      "metadata": {
        "id": "Qblk541hNQzF",
        "colab_type": "code",
        "colab": {
          "base_uri": "https://localhost:8080/",
          "height": 52
        },
        "outputId": "d3f1821a-17e7-43d0-f481-85af0d882cf9"
      },
      "source": [
        "# Algoritmo voraz para devolucion del cambio\n",
        "\n",
        "\n",
        "SISTEMA = [25,10,5,1]\n",
        "@calcular_tiempo\n",
        "def cambio_monedas(CANTIDAD, SISTEMA):\n",
        "  SOLUCION=[0 for i in range(len(SISTEMA))]\n",
        "\n",
        "  VALOR_ACUMULADO = 0\n",
        "\n",
        "  for i in range(len(SISTEMA)):\n",
        "    monedas = int((CANTIDAD - VALOR_ACUMULADO)/SISTEMA[i])\n",
        "    SOLUCION[i] = monedas \n",
        "    VALOR_ACUMULADO += monedas*SISTEMA[i]\n",
        "\n",
        "    if VALOR_ACUMULADO == CANTIDAD:\n",
        "      return SOLUCION\n",
        "\n",
        "print(cambio_monedas(45,SISTEMA))"
      ],
      "execution_count": 66,
      "outputs": [
        {
          "output_type": "stream",
          "text": [
            "Tiempo transcurrido (en segundos): 7.62939453125e-06\n",
            "[1, 2, 0, 0]\n"
          ],
          "name": "stdout"
        }
      ]
    },
    {
      "cell_type": "code",
      "metadata": {
        "id": "aD8NHf5kSaIB",
        "colab_type": "code",
        "colab": {
          "base_uri": "https://localhost:8080/",
          "height": 35
        },
        "outputId": "2aad6c22-798a-454d-8e89-7a10d08a5215"
      },
      "source": [
        " # Algoritmo con vuelta atras para el problema N-Reinas\n",
        "\n",
        "def es_prometedora(SOLUCION, etapa):\n",
        "  for i in range(etapa+1):\n",
        "    if SOLUCION.count(SOLUCION[i]) > 1:\n",
        "      return False\n",
        "    for j in range(i+1, etapa + 1):\n",
        "      if abs(i-j) == abs(SOLUCION[i] - SOLUCION[j]):\n",
        "        return False\n",
        "  return True\n",
        "\n",
        "\n",
        "def reinas(N, solucion=[], etapa=0):\n",
        "  if len(solucion) == 0:\n",
        "    solucion = [0 for i in range(N)]\n",
        "  for i in range(1, N+1):\n",
        "    solucion[etapa] = i \n",
        "    if es_prometedora(solucion, etapa):\n",
        "      if etapa == N-1:\n",
        "        print(\"La solucion es \", solucion)\n",
        "      else:\n",
        "        reinas(N, solucion, etapa+1)\n",
        "    else:\n",
        "      None\n",
        "\n",
        "reinas(4)"
      ],
      "execution_count": 130,
      "outputs": [
        {
          "output_type": "stream",
          "text": [
            "La solucion es  [3, 1, 4, 2]\n"
          ],
          "name": "stdout"
        }
      ]
    }
  ]
}