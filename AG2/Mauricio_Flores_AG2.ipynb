{
  "nbformat": 4,
  "nbformat_minor": 0,
  "metadata": {
    "colab": {
      "name": "Mauricio Flores AG2.ipynb",
      "provenance": [],
      "collapsed_sections": [],
      "include_colab_link": true
    },
    "kernelspec": {
      "name": "python3",
      "display_name": "Python 3"
    }
  },
  "cells": [
    {
      "cell_type": "markdown",
      "metadata": {
        "id": "view-in-github",
        "colab_type": "text"
      },
      "source": [
        "<a href=\"https://colab.research.google.com/github/muflores10/03MAIR---Algoritmos-de-Optimizacion---2019/blob/master/AG2/Mauricio_Flores_AG2.ipynb\" target=\"_parent\"><img src=\"https://colab.research.google.com/assets/colab-badge.svg\" alt=\"Open In Colab\"/></a>"
      ]
    },
    {
      "cell_type": "code",
      "metadata": {
        "id": "NKfdCiSbIcBE",
        "colab_type": "code",
        "colab": {}
      },
      "source": [
        "#Nombre: Mauricio Flores\n",
        "\n",
        "#URL: https://colab.research.google.com/drive/1jNyNF7v60WX-wUr17L4-KG4Ay6XsR9iD"
      ],
      "execution_count": 0,
      "outputs": []
    },
    {
      "cell_type": "code",
      "metadata": {
        "id": "Aui01cuNYCG_",
        "colab_type": "code",
        "colab": {}
      },
      "source": [
        "#Viaje por el rio. Programación dinámica."
      ],
      "execution_count": 0,
      "outputs": []
    },
    {
      "cell_type": "code",
      "metadata": {
        "id": "COhoPQGRKdlR",
        "colab_type": "code",
        "colab": {}
      },
      "source": [
        "TARIFAS = [\n",
        "[0,5,4,3,999,999,999],\n",
        "[999,0,999,2,3,999,11],\n",
        "[999,999, 0,1,999,4,10],\n",
        "[999,999,999, 0,5,6,9],\n",
        "[999,999, 999,999,0,999,4],\n",
        "[999,999, 999,999,999,0,3],\n",
        "[999,999,999,999,999,999,0]\n",
        "]"
      ],
      "execution_count": 0,
      "outputs": []
    },
    {
      "cell_type": "code",
      "metadata": {
        "id": "tgBz3IJWKSol",
        "colab_type": "code",
        "colab": {
          "base_uri": "https://localhost:8080/",
          "height": 89
        },
        "outputId": "b4a8add4-17a4-49d2-bcf0-fe6c235bd3ff"
      },
      "source": [
        "def Precios(TARIFAS):\n",
        "\n",
        "  N = len(TARIFAS[0])\n",
        "\n",
        "  PRECIOS = [[9999]*N for i in [9999]*N]\n",
        "  RUTA = [[\"\"]*N for i in [\"\"]*N]\n",
        "\n",
        "  for i in range(N-1):\n",
        "    for j in range(i+1,N):\n",
        "      MIN = TARIFAS [i][j]\n",
        "      RUTA[i][j] = i\n",
        "\n",
        "      for K in range(i,j):\n",
        "        if PRECIOS[i][K] + TARIFAS[K][j] < MIN:\n",
        "          MIN = PRECIOS[i][K] + TARIFAS[K][j]\n",
        "          RUTA[i][j] = K\n",
        "      PRECIOS[i][j] = MIN\n",
        "  return PRECIOS, RUTA\n",
        "\n",
        "def calcular_ruta(RUTA, desde, hasta):\n",
        "  if desde == hasta:\n",
        "    return desde\n",
        "  else:\n",
        "    return str(calcular_ruta(RUTA, desde, RUTA[desde][hasta])) + ' - ' + str(RUTA[desde][hasta])\n",
        "\n",
        "\n",
        "PRECIOS,RUTA = Precios(TARIFAS)\n",
        "print(PRECIOS)\n",
        "print(RUTA)\n",
        "calcular_ruta(RUTA, 0, 6)"
      ],
      "execution_count": 39,
      "outputs": [
        {
          "output_type": "stream",
          "text": [
            "[[9999, 5, 4, 3, 8, 8, 11], [9999, 9999, 999, 2, 3, 8, 7], [9999, 9999, 9999, 1, 6, 4, 7], [9999, 9999, 9999, 9999, 5, 6, 9], [9999, 9999, 9999, 9999, 9999, 999, 4], [9999, 9999, 9999, 9999, 9999, 9999, 3], [9999, 9999, 9999, 9999, 9999, 9999, 9999]]\n",
            "[['', 0, 0, 0, 1, 2, 5], ['', '', 1, 1, 1, 3, 4], ['', '', '', 2, 3, 2, 5], ['', '', '', '', 3, 3, 3], ['', '', '', '', '', 4, 4], ['', '', '', '', '', '', 5], ['', '', '', '', '', '', '']]\n"
          ],
          "name": "stdout"
        },
        {
          "output_type": "execute_result",
          "data": {
            "text/plain": [
              "'0 - 0 - 2 - 5'"
            ]
          },
          "metadata": {
            "tags": []
          },
          "execution_count": 39
        }
      ]
    },
    {
      "cell_type": "code",
      "metadata": {
        "id": "RHvtp2OlY7h5",
        "colab_type": "code",
        "colab": {}
      },
      "source": [
        "# Asignación de tareas. Ramificación y poda."
      ],
      "execution_count": 0,
      "outputs": []
    },
    {
      "cell_type": "code",
      "metadata": {
        "id": "Hu5nPbSzZpAR",
        "colab_type": "code",
        "colab": {}
      },
      "source": [
        "import itertools\n",
        "from functools import wraps\n",
        "\n",
        "def calcular_tiempo(f):\n",
        "    @wraps(f)\n",
        "    def cronometro(*args, **kwargs):\n",
        "        t_inicial = time()\n",
        "        salida = f(*args, **kwargs)\n",
        "        t_final = time()\n",
        "        print('Tiempo transcurrido (en segundos): {}'.format(t_final - t_inicial))\n",
        "        return salida\n",
        "    return cronometro"
      ],
      "execution_count": 0,
      "outputs": []
    },
    {
      "cell_type": "code",
      "metadata": {
        "id": "msdbXPJUZsqZ",
        "colab_type": "code",
        "colab": {}
      },
      "source": [
        "COSTES=[[11,12,18,40],\n",
        "        [14,15,13,22],\n",
        "        [11,17,19,23],\n",
        "        [17,14,20,28]]"
      ],
      "execution_count": 0,
      "outputs": []
    },
    {
      "cell_type": "code",
      "metadata": {
        "id": "CIQQJcjZeQ4V",
        "colab_type": "code",
        "colab": {
          "base_uri": "https://localhost:8080/",
          "height": 35
        },
        "outputId": "7d267ffb-cfd3-4311-afb8-b44ceaf07241"
      },
      "source": [
        "def valor(S, COSTES):\n",
        "  VALOR = 0\n",
        "  for i in range(len(S)):\n",
        "    VALOR += COSTES[S[i]][i]\n",
        "  return VALOR\n",
        "\n",
        "valor((3,1,2,0), COSTES)\n"
      ],
      "execution_count": 54,
      "outputs": [
        {
          "output_type": "execute_result",
          "data": {
            "text/plain": [
              "91"
            ]
          },
          "metadata": {
            "tags": []
          },
          "execution_count": 54
        }
      ]
    },
    {
      "cell_type": "code",
      "metadata": {
        "id": "OSg9EBAAg79S",
        "colab_type": "code",
        "colab": {
          "base_uri": "https://localhost:8080/",
          "height": 35
        },
        "outputId": "74937444-8052-4023-c7db-618766d17c25"
      },
      "source": [
        "def fuerza_bruta(COSTES):\n",
        "  mejor_valor = 10e10\n",
        "  mejor_solucion = ''\n",
        "\n",
        "  for S in list(itertools.permutations(range(len(COSTES)))):\n",
        "    valor_tmp = valor(S, COSTES)\n",
        "    if valor_tmp < mejor_valor:\n",
        "      mejor_solucion = S\n",
        "      mejor_valor = valor_tmp\n",
        "  print('La mejor solucion es : ', mejor_solucion)\n",
        "\n",
        "fuerza_bruta(COSTES)\n",
        "\n"
      ],
      "execution_count": 65,
      "outputs": [
        {
          "output_type": "stream",
          "text": [
            "La mejor solucion es :  (0, 3, 1, 2)\n"
          ],
          "name": "stdout"
        }
      ]
    },
    {
      "cell_type": "code",
      "metadata": {
        "id": "aE2B4m7Bkqvq",
        "colab_type": "code",
        "colab": {
          "base_uri": "https://localhost:8080/",
          "height": 35
        },
        "outputId": "c5178934-9fcf-466d-c4e7-38b77ee4d8f9"
      },
      "source": [
        "def CI(S, COSTES):\n",
        "  VALOR = 0\n",
        "\n",
        "  for i in range(len(S)):\n",
        "    VALOR += COSTES[i][S[i]]\n",
        "    #print(len(S))\n",
        "\n",
        "  # Estimaciones\n",
        "  for i in range(len(COSTES)):\n",
        "    #print(i)\n",
        "    if i not in S:\n",
        "      #print(i)\n",
        "      VALOR += min([COSTES[j][i] for j in range(len(S), len(COSTES))])\n",
        "      #print(VALOR)\n",
        "  return VALOR\n",
        "\n",
        "  #(0,2) --> (0,2,1), (0,2,3)\n",
        "  # {'s':(0,2), 'ci':34}\n",
        "\n",
        "def crear_hijos(NODO, N):\n",
        "  HIJOS = []\n",
        "  for i in range(N):\n",
        "    if i not in NODO:\n",
        "      HIJOS.append({'s':NODO + (i,)})\n",
        "  return HIJOS\n",
        "\n",
        "crear_hijos((0,2),4)\n"
      ],
      "execution_count": 109,
      "outputs": [
        {
          "output_type": "execute_result",
          "data": {
            "text/plain": [
              "[{'s': (0, 2, 1)}, {'s': (0, 2, 3)}]"
            ]
          },
          "metadata": {
            "tags": []
          },
          "execution_count": 109
        }
      ]
    },
    {
      "cell_type": "code",
      "metadata": {
        "id": "FtkZk5A9HHCY",
        "colab_type": "code",
        "colab": {
          "base_uri": "https://localhost:8080/",
          "height": 540
        },
        "outputId": "70f0b886-b273-4c3a-ed3e-b41c1bf8408d"
      },
      "source": [
        "def ramificacion_y_poda(COSTES):\n",
        "  DIMENSION = len(COSTES)\n",
        "  MEJOR_SOLUCION = tuple(i for i in range(DIMENSION))\n",
        "\n",
        "  CotaSup = valor(MEJOR_SOLUCION, COSTES)\n",
        "\n",
        "  NODOS = []\n",
        "  NODOS.append({'s':(), 'ci':CI((), COSTES)})\n",
        "\n",
        "  iteracion = 0\n",
        "\n",
        "  while (len(NODOS) > 0):\n",
        "    iteracion += 1\n",
        "    print('\\#',iteracion)\n",
        "    nodo_prometedor = min(NODOS, key=lambda x:x['ci'] )\n",
        "\n",
        "    #Hijos\n",
        "    HIJOS = [{'s':x['s'], 'ci': CI(x['s'], COSTES)} for x in crear_hijos(nodo_prometedor['s'], DIMENSION)]\n",
        "\n",
        "    NODO_FINAL = [x for x in HIJOS if len(x['s']) == DIMENSION]\n",
        "    if len(NODO_FINAL) > 0:\n",
        "      if NODO_FINAL[0]['ci'] < CotaSup:\n",
        "        CotaSup = NODO_FINAL[0]['ci']\n",
        "        MEJOR_SOLUCION = NODO_FINAL[0]\n",
        "\n",
        "    #Poda\n",
        "    HIJOS = [ x for x in HIJOS if x['ci'] < CotaSup]\n",
        "\n",
        "    #print(nodo_prometedor)\n",
        "    # Eliminamos el nodo expandido\n",
        "    NODOS = [x for x in NODOS if x['s'] != nodo_prometedor['s']]\n",
        "\n",
        "    #Añadimos los hijos\n",
        "    NODOS.extend(HIJOS)\n",
        "\n",
        "    print(NODOS)\n",
        "\n",
        "  print(\"La menjor solucion : \", MEJOR_SOLUCION)\n",
        "\n",
        "\n",
        "\n",
        "\n",
        "ramificacion_y_poda(COSTES)"
      ],
      "execution_count": 158,
      "outputs": [
        {
          "output_type": "stream",
          "text": [
            "\\# 1\n",
            "[{'s': (0,), 'ci': 60}, {'s': (1,), 'ci': 58}, {'s': (2,), 'ci': 65}]\n",
            "\\# 2\n",
            "[{'s': (0,), 'ci': 60}, {'s': (2,), 'ci': 65}, {'s': (1, 0), 'ci': 68}, {'s': (1, 2), 'ci': 59}, {'s': (1, 3), 'ci': 64}]\n",
            "\\# 3\n",
            "[{'s': (0,), 'ci': 60}, {'s': (2,), 'ci': 65}, {'s': (1, 0), 'ci': 68}, {'s': (1, 3), 'ci': 64}, {'s': (1, 2, 0), 'ci': 64}, {'s': (1, 2, 3), 'ci': 65}]\n",
            "\\# 4\n",
            "[{'s': (2,), 'ci': 65}, {'s': (1, 0), 'ci': 68}, {'s': (1, 3), 'ci': 64}, {'s': (1, 2, 0), 'ci': 64}, {'s': (1, 2, 3), 'ci': 65}, {'s': (0, 1), 'ci': 68}, {'s': (0, 2), 'ci': 61}, {'s': (0, 3), 'ci': 66}]\n",
            "\\# 5\n",
            "[{'s': (2,), 'ci': 65}, {'s': (1, 0), 'ci': 68}, {'s': (1, 3), 'ci': 64}, {'s': (1, 2, 0), 'ci': 64}, {'s': (1, 2, 3), 'ci': 65}, {'s': (0, 1), 'ci': 68}, {'s': (0, 3), 'ci': 66}, {'s': (0, 2, 1), 'ci': 69}, {'s': (0, 2, 3), 'ci': 61}]\n",
            "\\# 6\n",
            "[{'s': (2,), 'ci': 65}, {'s': (1, 0), 'ci': 68}, {'s': (1, 3), 'ci': 64}, {'s': (1, 2, 0), 'ci': 64}, {'s': (1, 2, 3), 'ci': 65}, {'s': (0, 1), 'ci': 68}, {'s': (0, 3), 'ci': 66}, {'s': (0, 2, 1), 'ci': 69}]\n",
            "\\# 7\n",
            "[{'s': (2,), 'ci': 65}, {'s': (1, 0), 'ci': 68}, {'s': (1, 2, 0), 'ci': 64}, {'s': (1, 2, 3), 'ci': 65}, {'s': (0, 1), 'ci': 68}, {'s': (0, 3), 'ci': 66}, {'s': (0, 2, 1), 'ci': 69}]\n",
            "\\# 8\n",
            "[{'s': (2,), 'ci': 65}, {'s': (1, 0), 'ci': 68}, {'s': (1, 2, 3), 'ci': 65}, {'s': (0, 1), 'ci': 68}, {'s': (0, 3), 'ci': 66}, {'s': (0, 2, 1), 'ci': 69}]\n",
            "\\# 9\n",
            "[{'s': (1, 0), 'ci': 68}, {'s': (1, 2, 3), 'ci': 65}, {'s': (0, 1), 'ci': 68}, {'s': (0, 3), 'ci': 66}, {'s': (0, 2, 1), 'ci': 69}]\n",
            "\\# 10\n",
            "[{'s': (1, 0), 'ci': 68}, {'s': (0, 1), 'ci': 68}, {'s': (0, 3), 'ci': 66}, {'s': (0, 2, 1), 'ci': 69}]\n",
            "\\# 11\n",
            "[{'s': (1, 0), 'ci': 68}, {'s': (0, 1), 'ci': 68}, {'s': (0, 2, 1), 'ci': 69}]\n",
            "\\# 12\n",
            "[{'s': (0, 1), 'ci': 68}, {'s': (0, 2, 1), 'ci': 69}]\n",
            "\\# 13\n",
            "[{'s': (0, 2, 1), 'ci': 69}]\n",
            "\\# 14\n",
            "[]\n",
            "La menjor solucion :  {'s': (0, 2, 3, 1), 'ci': 61}\n"
          ],
          "name": "stdout"
        }
      ]
    }
  ]
}